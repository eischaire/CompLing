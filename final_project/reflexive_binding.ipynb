{
 "cells": [
  {
   "cell_type": "code",
   "execution_count": 5,
   "metadata": {},
   "outputs": [],
   "source": [
    "import os\n",
    "import re"
   ]
  },
  {
   "cell_type": "code",
   "execution_count": 490,
   "metadata": {},
   "outputs": [],
   "source": [
    "import pandas as pd"
   ]
  },
  {
   "cell_type": "code",
   "execution_count": 537,
   "metadata": {},
   "outputs": [],
   "source": [
    "import numpy as np"
   ]
  },
  {
   "cell_type": "code",
   "execution_count": 394,
   "metadata": {},
   "outputs": [],
   "source": [
    "from copy import copy"
   ]
  },
  {
   "cell_type": "code",
   "execution_count": 627,
   "metadata": {},
   "outputs": [],
   "source": [
    "from sklearn.model_selection import cross_validate, train_test_split\n",
    "from sklearn.ensemble import RandomForestClassifier\n",
    "from sklearn.metrics import f1_score"
   ]
  },
  {
   "cell_type": "code",
   "execution_count": 635,
   "metadata": {},
   "outputs": [],
   "source": [
    "from sklearn.metrics import precision_score, recall_score, precision_recall_curve"
   ]
  },
  {
   "cell_type": "markdown",
   "metadata": {},
   "source": [
    "Author: Аня Охапкина"
   ]
  },
  {
   "cell_type": "markdown",
   "metadata": {},
   "source": [
    "# Разрешение анафоры и возвратные местоимения"
   ]
  },
  {
   "cell_type": "markdown",
   "metadata": {},
   "source": [
    "Источник вдохновения: [Toldova, Ionov 2017]\n",
    "    \n",
    "http://www.dialog-21.ru/media/3956/toldovasionovm.pdf"
   ]
  },
  {
   "cell_type": "markdown",
   "metadata": {},
   "source": [
    "В статье рассказывается об алгоритме для разрешения кореференции любых типов в РЯ. Я решила остановиться на русских возвратных местоимениях \"себя\" и \"свой\"."
   ]
  },
  {
   "cell_type": "markdown",
   "metadata": {},
   "source": [
    "Благодаря Екатерине у меня уже был готовый корпус ru-coref, тот же самый, на базе которого написан алгоритм из статьи. В свой подкорпус я взяла только те предложения, в которых есть возвратные местоимения."
   ]
  },
  {
   "cell_type": "code",
   "execution_count": 14,
   "metadata": {},
   "outputs": [],
   "source": [
    "with open ('parsed_testset\\\\files_with_reflexives.txt', 'r', encoding='utf-8') as refl:\n",
    "    refl_links = refl.read().split('\\n')"
   ]
  },
  {
   "cell_type": "code",
   "execution_count": 32,
   "metadata": {},
   "outputs": [],
   "source": [
    "refl_texts = []\n",
    "for link in refl_links:\n",
    "    with open (link.strip('.\\\\'), 'r', encoding='utf-8') as text:\n",
    "        item = text.read()\n",
    "        refl_texts.append(item)"
   ]
  },
  {
   "cell_type": "code",
   "execution_count": 33,
   "metadata": {},
   "outputs": [],
   "source": [
    "self_sentences = []\n",
    "for text in refl_texts:\n",
    "    for item in text.split('\\n\\n'):\n",
    "        if re.search('(себя)|(свой)', item, flags=re.DOTALL):\n",
    "            self_sentences.append(item)"
   ]
  },
  {
   "cell_type": "code",
   "execution_count": 683,
   "metadata": {},
   "outputs": [
    {
     "data": {
      "text/plain": [
       "293"
      ]
     },
     "execution_count": 683,
     "metadata": {},
     "output_type": "execute_result"
    }
   ],
   "source": [
    "len(self_sentences)"
   ]
  },
  {
   "cell_type": "markdown",
   "metadata": {},
   "source": [
    "Ура! У нас 293 предложения с рефлексивами!"
   ]
  },
  {
   "cell_type": "markdown",
   "metadata": {},
   "source": [
    "Здесь вспомогательный кусок кода, в котором все предложения из self_sentences я записала в отдельный файл, чтобы вручную проставить антецеденты и связанные с ними возвратные местоимения."
   ]
  },
  {
   "cell_type": "code",
   "execution_count": 360,
   "metadata": {},
   "outputs": [],
   "source": [
    "# with open('self_sentences.txt', 'w', encoding='utf-8') as to_manual:\n",
    "#     for sent in self_sentences:\n",
    "#         to_manual.writelines(sent)\n",
    "#         to_manual.write('\\n\\n')"
   ]
  },
  {
   "cell_type": "markdown",
   "metadata": {},
   "source": [
    "Все предложения исходного корпуса обработаны в conll формате. \n",
    "\n",
    "Когда я размечала предложения руками, я добавила к каждому слову, которое считаю антецедентом чего-нибудь, помету 'ANTECEDENT' и порядковые номера слов, которые им связаны."
   ]
  },
  {
   "cell_type": "code",
   "execution_count": 547,
   "metadata": {},
   "outputs": [],
   "source": [
    "with open('self_sentences.txt', 'r', encoding='utf-8') as bound:\n",
    "    self_sentences = bound.read().split('\\n\\n')"
   ]
  },
  {
   "cell_type": "markdown",
   "metadata": {},
   "source": [
    "Так выглядят все пометы для слов в предложении:"
   ]
  },
  {
   "cell_type": "code",
   "execution_count": 548,
   "metadata": {
    "scrolled": true
   },
   "outputs": [
    {
     "name": "stdout",
     "output_type": "stream",
     "text": [
      "['1', 'Во', 'во', 'S', 'S', 'Sp-a', '9', 'обст', '_', '_']\n",
      "['2', 'время', 'время', 'N', 'N', 'Ncnsan', '1', 'предл', '_', '_']\n",
      "['3', 'своих', 'свой', 'P', 'P', 'P---pga', '4', 'опред', '_', '_']\n",
      "['4', 'прогулок', 'прогулка', 'N', 'N', 'Ncfpgn', '2', '1-компл', '_', '_']\n",
      "['5', 'в', 'в', 'S', 'S', 'Sp-l', '4', 'атриб', '_', '_']\n",
      "['6', 'окрестностях', 'окрестность', 'N', 'N', 'Ncfpln', '5', 'предл', '_', '_']\n",
      "['7', 'Симеиза', 'симеиз', 'N', 'N', 'Ncmsgn', '6', 'квазиагент', '_', '_']\n",
      "['8', 'я', 'я', 'P', 'P', 'P-1-snn', '9', 'предик', '_', 'ANTECEDENT', '3']\n",
      "['9', 'обратил', 'обратить', 'V', 'V', 'Vmis-sma-p', '0', 'ROOT', '_', '_']\n",
      "['10', 'внимание', 'внимание', 'N', 'N', 'Ncnsan', '9', '1-компл', '_', '_']\n",
      "['11', 'на', 'на', 'S', 'S', 'Sp-a', '10', '1-компл', '_', '_']\n",
      "['12', 'одинокую', 'одинокий', 'A', 'A', 'Afpfsaf', '13', 'опред', '_', '_']\n",
      "['13', 'дачу', 'дача', 'N', 'N', 'Ncfsan', '11', 'предл', '_', '_']\n",
      "['14', ',', ',', ',', ',', ',', '13', 'PUNC', '_', '_']\n",
      "['15', 'стоявшую', 'стоять', 'V', 'V', 'Vmps-sfa-ea', '13', 'опред', '_', '_']\n",
      "['16', 'на', 'на', 'S', 'S', 'Sp-l', '15', '1-компл', '_', '_']\n",
      "['17', 'крутом', 'крутой', 'A', 'A', 'Afpmslf', '18', 'опред', '_', '_']\n",
      "['18', 'склоне', 'склон', 'N', 'N', 'Ncmsln', '16', 'предл', '_', '_']\n",
      "['19', 'горы', 'гора', 'N', 'N', 'Ncfsgn', '18', 'квазиагент', '_', '_']\n",
      "['20', '.', '.', 'S', 'S', 'SENT', '19', 'PUNC', '_', '_']\n"
     ]
    }
   ],
   "source": [
    "nodes = []\n",
    "for word in self_sentences[0].split('\\n'):\n",
    "    word = word.split('\\t')\n",
    "    #print(word)\n",
    "    nodes.append([word[1], word[0], word[6], word[-2], word[-1]])"
   ]
  },
  {
   "cell_type": "markdown",
   "metadata": {},
   "source": [
    "По этому списку я хотела строить дерево, но потом поняла, что обойдусь без него."
   ]
  },
  {
   "cell_type": "code",
   "execution_count": 549,
   "metadata": {},
   "outputs": [
    {
     "data": {
      "text/plain": [
       "[['Во', '1', '9', '_', '_'],\n",
       " ['время', '2', '1', '_', '_'],\n",
       " ['своих', '3', '4', '_', '_'],\n",
       " ['прогулок', '4', '2', '_', '_'],\n",
       " ['в', '5', '4', '_', '_'],\n",
       " ['окрестностях', '6', '5', '_', '_'],\n",
       " ['Симеиза', '7', '6', '_', '_'],\n",
       " ['я', '8', '9', 'ANTECEDENT', '3'],\n",
       " ['обратил', '9', '0', '_', '_'],\n",
       " ['внимание', '10', '9', '_', '_'],\n",
       " ['на', '11', '10', '_', '_'],\n",
       " ['одинокую', '12', '13', '_', '_'],\n",
       " ['дачу', '13', '11', '_', '_'],\n",
       " [',', '14', '13', '_', '_'],\n",
       " ['стоявшую', '15', '13', '_', '_'],\n",
       " ['на', '16', '15', '_', '_'],\n",
       " ['крутом', '17', '18', '_', '_'],\n",
       " ['склоне', '18', '16', '_', '_'],\n",
       " ['горы', '19', '18', '_', '_'],\n",
       " ['.', '20', '19', '_', '_']]"
      ]
     },
     "execution_count": 549,
     "metadata": {},
     "output_type": "execute_result"
    }
   ],
   "source": [
    "nodes"
   ]
  },
  {
   "cell_type": "markdown",
   "metadata": {},
   "source": [
    "Дальше я преобразовала сырые данные из корпуса в формат, пригодный для обучения.\n",
    "\n",
    "Я выбрала 8 параметров для своего пробного классификатора: \n",
    "\n",
    "1. Потенциальный антецедент с-командует анафором (анафор зависит от того же, от чего антецедент, или от кого-то из его потомков)\n",
    "\n",
    "2. Потенциальный антецедент скорее в теме, чем в реме (попробуем просто смотреть на линейный порядок, как будто до главного глагола (привязка == 0) идёт тема, а после рема: номер антецедента меньше номера глагола, от которого зависит анафор)\n",
    "\n",
    "3. Глагол согласуется по числу с потенциальным антецедентом (помета числа глагола, от которого зависит местоимение, совпадает с пометой числа антецедента)\n",
    "\n",
    "4. Потенциальный антецедент -- местоимение (помета в тегах соответствует местоимению)\n",
    "\n",
    "5. Анафор зависит от антецедента (номер родителя анафора == номер антецедента)\n",
    "\n",
    "6. Потенциальный антецедент в номинативе (соответствующая помета в тегах == n)\n",
    "\n",
    "7. Потенциальный антецедент в линеаризации идёт до анафора (номер антецедента меньше номера анафора)\n",
    "\n",
    "8. Потенциальный антецедент согласуется с анафором по числу и падежу (например, \"своей кошки\"). Это фактор, который работает наоборот: такие пары не связаны."
   ]
  },
  {
   "cell_type": "code",
   "execution_count": 685,
   "metadata": {},
   "outputs": [],
   "source": [
    "class SentenceProcessing:\n",
    "    def __init__(self, sentence):\n",
    "        self.info = []\n",
    "        for word in sentence.split('\\n'):\n",
    "            word = word.split('\\t')\n",
    "            self.info.append({'number': int(word[0]), 'word': word[1], 'tags': word[5], 'alias': int(word[6]),\n",
    "                              #'is_antecedent': word[-2], \n",
    "                              'bindee': word[-1]})\n",
    "\n",
    "            \n",
    "    def preprocess(self):\n",
    "        self.verblist = []\n",
    "        self.antecedents = []\n",
    "        self.anaphors = []\n",
    "        self.tree = {}\n",
    "        for word in self.info:\n",
    "            \n",
    "            if word['tags'].startswith('V'):\n",
    "                self.verblist.append(word)\n",
    "\n",
    "            if word['tags'].startswith('N') or re.search('P-[123]', word['tags']):\n",
    "                self.antecedents.append(word)\n",
    "                \n",
    "            if re.match('(P----.n)|(P---..a)', word['tags']) and word['tags'] != 'P-----a':\n",
    "                self.anaphors.append(word)\n",
    "        \n",
    "            if word['alias'] not in self.tree:\n",
    "                self.tree[word['alias']] = [word['number']]\n",
    "            else:\n",
    "                self.tree[word['alias']].append(word['number'])\n",
    "        \n",
    "    \n",
    "    def antecedent_features(self, antecedent):\n",
    "        answer_2 = 0\n",
    "        answer_3 = 0\n",
    "        answer_4 = 0\n",
    "        answer_6 = 0\n",
    "        for verb in self.verblist:\n",
    "            if verb['alias']==0:\n",
    "                \n",
    "                if antecedent['number'] < verb['number']:\n",
    "                    answer_2 = 1\n",
    "                \n",
    "                if antecedent['tags'][3] == verb['tags'][5]:\n",
    "                    answer_3 = 1\n",
    "        \n",
    "        if antecedent['tags'].startswith('P'):\n",
    "            answer_4 = 1\n",
    "        if antecedent['tags'][-2] == 'n':\n",
    "            answer_6 = 1\n",
    "        \n",
    "        return [answer_2, answer_3, answer_4, answer_6]\n",
    "\n",
    "    \n",
    "    def antecedent_anaphor_features(self, antecedent, anaphor):\n",
    "        answer_5 = 0\n",
    "        answer_7 = 0\n",
    "        answer_8 = 0\n",
    "        \n",
    "        if antecedent['number'] < anaphor['number']:\n",
    "            answer_7 = 1\n",
    "        \n",
    "        if anaphor['alias'] == antecedent['number']:\n",
    "            answer_5 = 1\n",
    "        \n",
    "        if anaphor['tags'][-3:-1] == antecedent['tags'][-3:-1]:\n",
    "            answer_8 = 1\n",
    "        \n",
    "        return [answer_5, answer_7, answer_8]\n",
    "        \n",
    "        \n",
    "    def c_command(self, antecedent, anaphor, head):\n",
    "        #print(antecedent) # смотрим, с каким антецедентом мы работаем\n",
    "        answer_1 = 0 # по умолчанию параметр с-командования равен 0\n",
    "        if head in self.tree:\n",
    "            kids = self.tree[head] # найдём всех сестер антецедента\n",
    "            #print(kids)\n",
    "            for node in kids: # для всех сестёр антецедента делаем вот что:\n",
    "                #print('checking now node ', node)\n",
    "                if node == anaphor['number']: # проверяем, что анафор не сестра антецедента\n",
    "                    #print('found it!')\n",
    "                    answer_1 = 1\n",
    "                    #print ('answer_1 = ', answer_1)\n",
    "                    break\n",
    "                if node not in self.tree:\n",
    "                    continue\n",
    "                if node != antecedent['number']:\n",
    "                    answer_1 = self.c_command(antecedent, anaphor, node)\n",
    "                    if answer_1:\n",
    "                        break\n",
    "        \n",
    "        #print(answer_1)\n",
    "        return answer_1\n",
    "    \n",
    "    def processing(self):\n",
    "        for_table = []\n",
    "        ant_alias = None\n",
    "        for antecedent in self.antecedents:\n",
    "            for anaphor in self.anaphors:\n",
    "                [answer_2, answer_3, answer_4, answer_6] = self.antecedent_features(antecedent)\n",
    "                [answer_5, answer_7, answer_8] = self.antecedent_anaphor_features(antecedent, anaphor)\n",
    "                answer_1 = self.c_command(antecedent, anaphor, antecedent['alias'])\n",
    "                #print(str(anaphor['number']) in antecedent['bindee'].split(','))\n",
    "                if str(anaphor['number']) in antecedent['bindee'].split(','):\n",
    "                    antecedent['is_antecedent'] = 1\n",
    "                else:\n",
    "                    antecedent['is_antecedent'] = 2\n",
    "                #print(antecedent['is_antecedent'])\n",
    "                for_table.append([(antecedent['word'], anaphor['word']), (antecedent['number'], anaphor['number']),\n",
    "                                  answer_1, answer_2, answer_3, answer_4, \n",
    "                                  answer_5, answer_6, answer_7, answer_8,\n",
    "                                  antecedent['is_antecedent'], antecedent['bindee']])\n",
    "        return copy(for_table)"
   ]
  },
  {
   "cell_type": "code",
   "execution_count": 713,
   "metadata": {},
   "outputs": [],
   "source": [
    "for_df = []\n",
    "num = 1\n",
    "for sentence in (self_sentences):\n",
    "    if sentence:\n",
    "        sent = SentenceProcessing(sentence)\n",
    "        sent.preprocess()\n",
    "        list_of_features=sent.processing()\n",
    "        for j, item in enumerate(list_of_features):\n",
    "            for i, feature in enumerate(item):\n",
    "                if isinstance(feature, tuple):\n",
    "                    item[i] = ' -> '.join([str(part) for part in feature])\n",
    "            list_of_features[j] = [num] + item\n",
    "            #print(item)\n",
    "    for_df += list_of_features\n",
    "    num += 1"
   ]
  },
  {
   "cell_type": "code",
   "execution_count": 714,
   "metadata": {},
   "outputs": [],
   "source": [
    "base_df = pd.DataFrame(for_df, columns=['sentence_num', 'pair', 'pair_nums', 'c-command', 'theme', 'verb_agree', 'pronoun',\n",
    "                                        'parent', 'nominative', 'antecedent_earlier', 'ant_anaph_agree', \n",
    "                                        'is_antecedent', 'bindee'])"
   ]
  },
  {
   "cell_type": "markdown",
   "metadata": {},
   "source": [
    "Вот так выглядит таблица, понятная человеку:"
   ]
  },
  {
   "cell_type": "code",
   "execution_count": 715,
   "metadata": {
    "scrolled": true
   },
   "outputs": [
    {
     "data": {
      "text/html": [
       "<div>\n",
       "<style scoped>\n",
       "    .dataframe tbody tr th:only-of-type {\n",
       "        vertical-align: middle;\n",
       "    }\n",
       "\n",
       "    .dataframe tbody tr th {\n",
       "        vertical-align: top;\n",
       "    }\n",
       "\n",
       "    .dataframe thead th {\n",
       "        text-align: right;\n",
       "    }\n",
       "</style>\n",
       "<table border=\"1\" class=\"dataframe\">\n",
       "  <thead>\n",
       "    <tr style=\"text-align: right;\">\n",
       "      <th></th>\n",
       "      <th>sentence_num</th>\n",
       "      <th>pair</th>\n",
       "      <th>pair_nums</th>\n",
       "      <th>c-command</th>\n",
       "      <th>theme</th>\n",
       "      <th>verb_agree</th>\n",
       "      <th>pronoun</th>\n",
       "      <th>parent</th>\n",
       "      <th>nominative</th>\n",
       "      <th>antecedent_earlier</th>\n",
       "      <th>ant_anaph_agree</th>\n",
       "      <th>is_antecedent</th>\n",
       "      <th>bindee</th>\n",
       "    </tr>\n",
       "  </thead>\n",
       "  <tbody>\n",
       "    <tr>\n",
       "      <th>0</th>\n",
       "      <td>1</td>\n",
       "      <td>время -&gt; своих</td>\n",
       "      <td>2 -&gt; 3</td>\n",
       "      <td>0</td>\n",
       "      <td>1</td>\n",
       "      <td>1</td>\n",
       "      <td>0</td>\n",
       "      <td>0</td>\n",
       "      <td>0</td>\n",
       "      <td>1</td>\n",
       "      <td>0</td>\n",
       "      <td>2</td>\n",
       "      <td>_</td>\n",
       "    </tr>\n",
       "    <tr>\n",
       "      <th>1</th>\n",
       "      <td>1</td>\n",
       "      <td>прогулок -&gt; своих</td>\n",
       "      <td>4 -&gt; 3</td>\n",
       "      <td>0</td>\n",
       "      <td>1</td>\n",
       "      <td>0</td>\n",
       "      <td>0</td>\n",
       "      <td>1</td>\n",
       "      <td>0</td>\n",
       "      <td>0</td>\n",
       "      <td>1</td>\n",
       "      <td>2</td>\n",
       "      <td>_</td>\n",
       "    </tr>\n",
       "    <tr>\n",
       "      <th>2</th>\n",
       "      <td>1</td>\n",
       "      <td>окрестностях -&gt; своих</td>\n",
       "      <td>6 -&gt; 3</td>\n",
       "      <td>0</td>\n",
       "      <td>1</td>\n",
       "      <td>0</td>\n",
       "      <td>0</td>\n",
       "      <td>0</td>\n",
       "      <td>0</td>\n",
       "      <td>0</td>\n",
       "      <td>0</td>\n",
       "      <td>2</td>\n",
       "      <td>_</td>\n",
       "    </tr>\n",
       "    <tr>\n",
       "      <th>3</th>\n",
       "      <td>1</td>\n",
       "      <td>Симеиза -&gt; своих</td>\n",
       "      <td>7 -&gt; 3</td>\n",
       "      <td>0</td>\n",
       "      <td>1</td>\n",
       "      <td>1</td>\n",
       "      <td>0</td>\n",
       "      <td>0</td>\n",
       "      <td>0</td>\n",
       "      <td>0</td>\n",
       "      <td>0</td>\n",
       "      <td>2</td>\n",
       "      <td>_</td>\n",
       "    </tr>\n",
       "    <tr>\n",
       "      <th>4</th>\n",
       "      <td>1</td>\n",
       "      <td>я -&gt; своих</td>\n",
       "      <td>8 -&gt; 3</td>\n",
       "      <td>1</td>\n",
       "      <td>1</td>\n",
       "      <td>0</td>\n",
       "      <td>1</td>\n",
       "      <td>0</td>\n",
       "      <td>1</td>\n",
       "      <td>0</td>\n",
       "      <td>0</td>\n",
       "      <td>1</td>\n",
       "      <td>3</td>\n",
       "    </tr>\n",
       "    <tr>\n",
       "      <th>5</th>\n",
       "      <td>1</td>\n",
       "      <td>внимание -&gt; своих</td>\n",
       "      <td>10 -&gt; 3</td>\n",
       "      <td>1</td>\n",
       "      <td>0</td>\n",
       "      <td>1</td>\n",
       "      <td>0</td>\n",
       "      <td>0</td>\n",
       "      <td>0</td>\n",
       "      <td>0</td>\n",
       "      <td>0</td>\n",
       "      <td>2</td>\n",
       "      <td>_</td>\n",
       "    </tr>\n",
       "    <tr>\n",
       "      <th>6</th>\n",
       "      <td>1</td>\n",
       "      <td>дачу -&gt; своих</td>\n",
       "      <td>13 -&gt; 3</td>\n",
       "      <td>0</td>\n",
       "      <td>0</td>\n",
       "      <td>1</td>\n",
       "      <td>0</td>\n",
       "      <td>0</td>\n",
       "      <td>0</td>\n",
       "      <td>0</td>\n",
       "      <td>0</td>\n",
       "      <td>2</td>\n",
       "      <td>_</td>\n",
       "    </tr>\n",
       "    <tr>\n",
       "      <th>7</th>\n",
       "      <td>1</td>\n",
       "      <td>склоне -&gt; своих</td>\n",
       "      <td>18 -&gt; 3</td>\n",
       "      <td>0</td>\n",
       "      <td>0</td>\n",
       "      <td>1</td>\n",
       "      <td>0</td>\n",
       "      <td>0</td>\n",
       "      <td>0</td>\n",
       "      <td>0</td>\n",
       "      <td>0</td>\n",
       "      <td>2</td>\n",
       "      <td>_</td>\n",
       "    </tr>\n",
       "    <tr>\n",
       "      <th>8</th>\n",
       "      <td>1</td>\n",
       "      <td>горы -&gt; своих</td>\n",
       "      <td>19 -&gt; 3</td>\n",
       "      <td>0</td>\n",
       "      <td>0</td>\n",
       "      <td>1</td>\n",
       "      <td>0</td>\n",
       "      <td>0</td>\n",
       "      <td>0</td>\n",
       "      <td>0</td>\n",
       "      <td>0</td>\n",
       "      <td>2</td>\n",
       "      <td>_</td>\n",
       "    </tr>\n",
       "    <tr>\n",
       "      <th>9</th>\n",
       "      <td>2</td>\n",
       "      <td>Я -&gt; своих</td>\n",
       "      <td>1 -&gt; 6</td>\n",
       "      <td>1</td>\n",
       "      <td>1</td>\n",
       "      <td>0</td>\n",
       "      <td>1</td>\n",
       "      <td>0</td>\n",
       "      <td>1</td>\n",
       "      <td>1</td>\n",
       "      <td>0</td>\n",
       "      <td>1</td>\n",
       "      <td>6</td>\n",
       "    </tr>\n",
       "    <tr>\n",
       "      <th>10</th>\n",
       "      <td>2</td>\n",
       "      <td>справки -&gt; своих</td>\n",
       "      <td>4 -&gt; 6</td>\n",
       "      <td>1</td>\n",
       "      <td>0</td>\n",
       "      <td>0</td>\n",
       "      <td>0</td>\n",
       "      <td>0</td>\n",
       "      <td>0</td>\n",
       "      <td>1</td>\n",
       "      <td>0</td>\n",
       "      <td>2</td>\n",
       "      <td>_</td>\n",
       "    </tr>\n",
       "    <tr>\n",
       "      <th>11</th>\n",
       "      <td>2</td>\n",
       "      <td>знакомых -&gt; своих</td>\n",
       "      <td>7 -&gt; 6</td>\n",
       "      <td>0</td>\n",
       "      <td>0</td>\n",
       "      <td>0</td>\n",
       "      <td>0</td>\n",
       "      <td>1</td>\n",
       "      <td>0</td>\n",
       "      <td>0</td>\n",
       "      <td>1</td>\n",
       "      <td>2</td>\n",
       "      <td>_</td>\n",
       "    </tr>\n",
       "    <tr>\n",
       "      <th>12</th>\n",
       "      <td>2</td>\n",
       "      <td>мне -&gt; своих</td>\n",
       "      <td>13 -&gt; 6</td>\n",
       "      <td>0</td>\n",
       "      <td>0</td>\n",
       "      <td>0</td>\n",
       "      <td>1</td>\n",
       "      <td>0</td>\n",
       "      <td>0</td>\n",
       "      <td>0</td>\n",
       "      <td>0</td>\n",
       "      <td>2</td>\n",
       "      <td>_</td>\n",
       "    </tr>\n",
       "    <tr>\n",
       "      <th>13</th>\n",
       "      <td>2</td>\n",
       "      <td>любопытство -&gt; своих</td>\n",
       "      <td>17 -&gt; 6</td>\n",
       "      <td>0</td>\n",
       "      <td>0</td>\n",
       "      <td>1</td>\n",
       "      <td>0</td>\n",
       "      <td>0</td>\n",
       "      <td>0</td>\n",
       "      <td>0</td>\n",
       "      <td>0</td>\n",
       "      <td>2</td>\n",
       "      <td>_</td>\n",
       "    </tr>\n",
       "    <tr>\n",
       "      <th>14</th>\n",
       "      <td>3</td>\n",
       "      <td>Мне -&gt; своими</td>\n",
       "      <td>1 -&gt; 16</td>\n",
       "      <td>1</td>\n",
       "      <td>1</td>\n",
       "      <td>0</td>\n",
       "      <td>1</td>\n",
       "      <td>0</td>\n",
       "      <td>0</td>\n",
       "      <td>1</td>\n",
       "      <td>0</td>\n",
       "      <td>2</td>\n",
       "      <td>_</td>\n",
       "    </tr>\n",
       "    <tr>\n",
       "      <th>15</th>\n",
       "      <td>3</td>\n",
       "      <td>человека -&gt; своими</td>\n",
       "      <td>11 -&gt; 16</td>\n",
       "      <td>0</td>\n",
       "      <td>0</td>\n",
       "      <td>1</td>\n",
       "      <td>0</td>\n",
       "      <td>0</td>\n",
       "      <td>0</td>\n",
       "      <td>1</td>\n",
       "      <td>0</td>\n",
       "      <td>1</td>\n",
       "      <td>16</td>\n",
       "    </tr>\n",
       "    <tr>\n",
       "      <th>16</th>\n",
       "      <td>3</td>\n",
       "      <td>шума -&gt; своими</td>\n",
       "      <td>15 -&gt; 16</td>\n",
       "      <td>0</td>\n",
       "      <td>0</td>\n",
       "      <td>1</td>\n",
       "      <td>0</td>\n",
       "      <td>0</td>\n",
       "      <td>0</td>\n",
       "      <td>1</td>\n",
       "      <td>0</td>\n",
       "      <td>2</td>\n",
       "      <td>_</td>\n",
       "    </tr>\n",
       "    <tr>\n",
       "      <th>17</th>\n",
       "      <td>3</td>\n",
       "      <td>изобретениями -&gt; своими</td>\n",
       "      <td>17 -&gt; 16</td>\n",
       "      <td>0</td>\n",
       "      <td>0</td>\n",
       "      <td>0</td>\n",
       "      <td>0</td>\n",
       "      <td>1</td>\n",
       "      <td>0</td>\n",
       "      <td>0</td>\n",
       "      <td>1</td>\n",
       "      <td>2</td>\n",
       "      <td>_</td>\n",
       "    </tr>\n",
       "    <tr>\n",
       "      <th>18</th>\n",
       "      <td>4</td>\n",
       "      <td>Я -&gt; свои</td>\n",
       "      <td>1 -&gt; 12</td>\n",
       "      <td>1</td>\n",
       "      <td>1</td>\n",
       "      <td>1</td>\n",
       "      <td>1</td>\n",
       "      <td>0</td>\n",
       "      <td>1</td>\n",
       "      <td>1</td>\n",
       "      <td>0</td>\n",
       "      <td>1</td>\n",
       "      <td>12</td>\n",
       "    </tr>\n",
       "    <tr>\n",
       "      <th>19</th>\n",
       "      <td>4</td>\n",
       "      <td>наблюдения -&gt; свои</td>\n",
       "      <td>13 -&gt; 12</td>\n",
       "      <td>0</td>\n",
       "      <td>1</td>\n",
       "      <td>0</td>\n",
       "      <td>0</td>\n",
       "      <td>1</td>\n",
       "      <td>0</td>\n",
       "      <td>0</td>\n",
       "      <td>1</td>\n",
       "      <td>2</td>\n",
       "      <td>_</td>\n",
       "    </tr>\n",
       "    <tr>\n",
       "      <th>20</th>\n",
       "      <td>4</td>\n",
       "      <td>часами -&gt; свои</td>\n",
       "      <td>16 -&gt; 12</td>\n",
       "      <td>1</td>\n",
       "      <td>1</td>\n",
       "      <td>0</td>\n",
       "      <td>0</td>\n",
       "      <td>0</td>\n",
       "      <td>0</td>\n",
       "      <td>0</td>\n",
       "      <td>0</td>\n",
       "      <td>2</td>\n",
       "      <td>_</td>\n",
       "    </tr>\n",
       "    <tr>\n",
       "      <th>21</th>\n",
       "      <td>4</td>\n",
       "      <td>время -&gt; свои</td>\n",
       "      <td>19 -&gt; 12</td>\n",
       "      <td>0</td>\n",
       "      <td>1</td>\n",
       "      <td>1</td>\n",
       "      <td>0</td>\n",
       "      <td>0</td>\n",
       "      <td>0</td>\n",
       "      <td>0</td>\n",
       "      <td>0</td>\n",
       "      <td>2</td>\n",
       "      <td>_</td>\n",
       "    </tr>\n",
       "    <tr>\n",
       "      <th>22</th>\n",
       "      <td>4</td>\n",
       "      <td>дня -&gt; свои</td>\n",
       "      <td>20 -&gt; 12</td>\n",
       "      <td>0</td>\n",
       "      <td>1</td>\n",
       "      <td>1</td>\n",
       "      <td>0</td>\n",
       "      <td>0</td>\n",
       "      <td>0</td>\n",
       "      <td>0</td>\n",
       "      <td>0</td>\n",
       "      <td>2</td>\n",
       "      <td>_</td>\n",
       "    </tr>\n",
       "    <tr>\n",
       "      <th>23</th>\n",
       "      <td>4</td>\n",
       "      <td>ночи -&gt; свои</td>\n",
       "      <td>23 -&gt; 12</td>\n",
       "      <td>0</td>\n",
       "      <td>1</td>\n",
       "      <td>1</td>\n",
       "      <td>0</td>\n",
       "      <td>0</td>\n",
       "      <td>0</td>\n",
       "      <td>0</td>\n",
       "      <td>0</td>\n",
       "      <td>2</td>\n",
       "      <td>_</td>\n",
       "    </tr>\n",
       "    <tr>\n",
       "      <th>24</th>\n",
       "      <td>4</td>\n",
       "      <td>кустом -&gt; свои</td>\n",
       "      <td>27 -&gt; 12</td>\n",
       "      <td>0</td>\n",
       "      <td>0</td>\n",
       "      <td>1</td>\n",
       "      <td>0</td>\n",
       "      <td>0</td>\n",
       "      <td>0</td>\n",
       "      <td>0</td>\n",
       "      <td>0</td>\n",
       "      <td>2</td>\n",
       "      <td>_</td>\n",
       "    </tr>\n",
       "  </tbody>\n",
       "</table>\n",
       "</div>"
      ],
      "text/plain": [
       "    sentence_num                     pair pair_nums  c-command  theme  \\\n",
       "0              1           время -> своих    2 -> 3          0      1   \n",
       "1              1        прогулок -> своих    4 -> 3          0      1   \n",
       "2              1    окрестностях -> своих    6 -> 3          0      1   \n",
       "3              1         Симеиза -> своих    7 -> 3          0      1   \n",
       "4              1               я -> своих    8 -> 3          1      1   \n",
       "5              1        внимание -> своих   10 -> 3          1      0   \n",
       "6              1            дачу -> своих   13 -> 3          0      0   \n",
       "7              1          склоне -> своих   18 -> 3          0      0   \n",
       "8              1            горы -> своих   19 -> 3          0      0   \n",
       "9              2               Я -> своих    1 -> 6          1      1   \n",
       "10             2         справки -> своих    4 -> 6          1      0   \n",
       "11             2        знакомых -> своих    7 -> 6          0      0   \n",
       "12             2             мне -> своих   13 -> 6          0      0   \n",
       "13             2     любопытство -> своих   17 -> 6          0      0   \n",
       "14             3            Мне -> своими   1 -> 16          1      1   \n",
       "15             3       человека -> своими  11 -> 16          0      0   \n",
       "16             3           шума -> своими  15 -> 16          0      0   \n",
       "17             3  изобретениями -> своими  17 -> 16          0      0   \n",
       "18             4                Я -> свои   1 -> 12          1      1   \n",
       "19             4       наблюдения -> свои  13 -> 12          0      1   \n",
       "20             4           часами -> свои  16 -> 12          1      1   \n",
       "21             4            время -> свои  19 -> 12          0      1   \n",
       "22             4              дня -> свои  20 -> 12          0      1   \n",
       "23             4             ночи -> свои  23 -> 12          0      1   \n",
       "24             4           кустом -> свои  27 -> 12          0      0   \n",
       "\n",
       "    verb_agree  pronoun  parent  nominative  antecedent_earlier  \\\n",
       "0            1        0       0           0                   1   \n",
       "1            0        0       1           0                   0   \n",
       "2            0        0       0           0                   0   \n",
       "3            1        0       0           0                   0   \n",
       "4            0        1       0           1                   0   \n",
       "5            1        0       0           0                   0   \n",
       "6            1        0       0           0                   0   \n",
       "7            1        0       0           0                   0   \n",
       "8            1        0       0           0                   0   \n",
       "9            0        1       0           1                   1   \n",
       "10           0        0       0           0                   1   \n",
       "11           0        0       1           0                   0   \n",
       "12           0        1       0           0                   0   \n",
       "13           1        0       0           0                   0   \n",
       "14           0        1       0           0                   1   \n",
       "15           1        0       0           0                   1   \n",
       "16           1        0       0           0                   1   \n",
       "17           0        0       1           0                   0   \n",
       "18           1        1       0           1                   1   \n",
       "19           0        0       1           0                   0   \n",
       "20           0        0       0           0                   0   \n",
       "21           1        0       0           0                   0   \n",
       "22           1        0       0           0                   0   \n",
       "23           1        0       0           0                   0   \n",
       "24           1        0       0           0                   0   \n",
       "\n",
       "    ant_anaph_agree  is_antecedent bindee  \n",
       "0                 0              2      _  \n",
       "1                 1              2      _  \n",
       "2                 0              2      _  \n",
       "3                 0              2      _  \n",
       "4                 0              1      3  \n",
       "5                 0              2      _  \n",
       "6                 0              2      _  \n",
       "7                 0              2      _  \n",
       "8                 0              2      _  \n",
       "9                 0              1      6  \n",
       "10                0              2      _  \n",
       "11                1              2      _  \n",
       "12                0              2      _  \n",
       "13                0              2      _  \n",
       "14                0              2      _  \n",
       "15                0              1     16  \n",
       "16                0              2      _  \n",
       "17                1              2      _  \n",
       "18                0              1     12  \n",
       "19                1              2      _  \n",
       "20                0              2      _  \n",
       "21                0              2      _  \n",
       "22                0              2      _  \n",
       "23                0              2      _  \n",
       "24                0              2      _  "
      ]
     },
     "execution_count": 715,
     "metadata": {},
     "output_type": "execute_result"
    }
   ],
   "source": [
    "base_df.head(25)"
   ]
  },
  {
   "cell_type": "markdown",
   "metadata": {},
   "source": [
    "Вытаскиваем из неё куски, понятные машине"
   ]
  },
  {
   "cell_type": "code",
   "execution_count": 716,
   "metadata": {},
   "outputs": [],
   "source": [
    "first_data = copy(base_df)\n",
    "first_data.drop(['sentence_num', 'pair_nums', 'pair', 'bindee'], axis=1, inplace=True)\n",
    "X = copy(first_data)\n",
    "X.drop('is_antecedent', axis=1, inplace=True)\n",
    "y = first_data['is_antecedent']"
   ]
  },
  {
   "cell_type": "code",
   "execution_count": null,
   "metadata": {},
   "outputs": [],
   "source": []
  },
  {
   "cell_type": "code",
   "execution_count": 717,
   "metadata": {},
   "outputs": [
    {
     "data": {
      "text/plain": [
       "1812"
      ]
     },
     "execution_count": 717,
     "metadata": {},
     "output_type": "execute_result"
    }
   ],
   "source": [
    "len(first_data)"
   ]
  },
  {
   "cell_type": "markdown",
   "metadata": {},
   "source": [
    "У меня в датасете оказалось 1812 потенциальных антецедентов для разных местоимений."
   ]
  },
  {
   "cell_type": "code",
   "execution_count": 718,
   "metadata": {},
   "outputs": [],
   "source": [
    "X_train, X_test, y_train, y_test = train_test_split(X,y)"
   ]
  },
  {
   "cell_type": "code",
   "execution_count": 719,
   "metadata": {},
   "outputs": [
    {
     "name": "stderr",
     "output_type": "stream",
     "text": [
      "C:\\Users\\Admin\\Miniconda3\\lib\\site-packages\\sklearn\\metrics\\classification.py:1143: UndefinedMetricWarning: F-score is ill-defined and being set to 0.0 due to no predicted samples.\n",
      "  'precision', 'predicted', average, warn_for)\n",
      "C:\\Users\\Admin\\Miniconda3\\lib\\site-packages\\sklearn\\metrics\\classification.py:1143: UndefinedMetricWarning: F-score is ill-defined and being set to 0.0 due to no predicted samples.\n",
      "  'precision', 'predicted', average, warn_for)\n",
      "C:\\Users\\Admin\\Miniconda3\\lib\\site-packages\\sklearn\\metrics\\classification.py:1143: UndefinedMetricWarning: F-score is ill-defined and being set to 0.0 due to no predicted samples.\n",
      "  'precision', 'predicted', average, warn_for)\n",
      "C:\\Users\\Admin\\Miniconda3\\lib\\site-packages\\sklearn\\metrics\\classification.py:1143: UndefinedMetricWarning: F-score is ill-defined and being set to 0.0 due to no predicted samples.\n",
      "  'precision', 'predicted', average, warn_for)\n",
      "C:\\Users\\Admin\\Miniconda3\\lib\\site-packages\\sklearn\\metrics\\classification.py:1143: UndefinedMetricWarning: F-score is ill-defined and being set to 0.0 due to no predicted samples.\n",
      "  'precision', 'predicted', average, warn_for)\n",
      "C:\\Users\\Admin\\Miniconda3\\lib\\site-packages\\sklearn\\metrics\\classification.py:1143: UndefinedMetricWarning: F-score is ill-defined and being set to 0.0 due to no predicted samples.\n",
      "  'precision', 'predicted', average, warn_for)\n",
      "C:\\Users\\Admin\\Miniconda3\\lib\\site-packages\\sklearn\\metrics\\classification.py:1143: UndefinedMetricWarning: F-score is ill-defined and being set to 0.0 due to no predicted samples.\n",
      "  'precision', 'predicted', average, warn_for)\n",
      "C:\\Users\\Admin\\Miniconda3\\lib\\site-packages\\sklearn\\metrics\\classification.py:1143: UndefinedMetricWarning: F-score is ill-defined and being set to 0.0 due to no predicted samples.\n",
      "  'precision', 'predicted', average, warn_for)\n",
      "C:\\Users\\Admin\\Miniconda3\\lib\\site-packages\\sklearn\\metrics\\classification.py:1143: UndefinedMetricWarning: F-score is ill-defined and being set to 0.0 due to no predicted samples.\n",
      "  'precision', 'predicted', average, warn_for)\n",
      "C:\\Users\\Admin\\Miniconda3\\lib\\site-packages\\sklearn\\metrics\\classification.py:1143: UndefinedMetricWarning: F-score is ill-defined and being set to 0.0 due to no predicted samples.\n",
      "  'precision', 'predicted', average, warn_for)\n",
      "C:\\Users\\Admin\\Miniconda3\\lib\\site-packages\\sklearn\\metrics\\classification.py:1143: UndefinedMetricWarning: F-score is ill-defined and being set to 0.0 due to no predicted samples.\n",
      "  'precision', 'predicted', average, warn_for)\n",
      "C:\\Users\\Admin\\Miniconda3\\lib\\site-packages\\sklearn\\metrics\\classification.py:1143: UndefinedMetricWarning: F-score is ill-defined and being set to 0.0 due to no predicted samples.\n",
      "  'precision', 'predicted', average, warn_for)\n",
      "C:\\Users\\Admin\\Miniconda3\\lib\\site-packages\\sklearn\\metrics\\classification.py:1143: UndefinedMetricWarning: F-score is ill-defined and being set to 0.0 due to no predicted samples.\n",
      "  'precision', 'predicted', average, warn_for)\n",
      "C:\\Users\\Admin\\Miniconda3\\lib\\site-packages\\sklearn\\metrics\\classification.py:1143: UndefinedMetricWarning: F-score is ill-defined and being set to 0.0 due to no predicted samples.\n",
      "  'precision', 'predicted', average, warn_for)\n",
      "C:\\Users\\Admin\\Miniconda3\\lib\\site-packages\\sklearn\\metrics\\classification.py:1143: UndefinedMetricWarning: F-score is ill-defined and being set to 0.0 due to no predicted samples.\n",
      "  'precision', 'predicted', average, warn_for)\n",
      "C:\\Users\\Admin\\Miniconda3\\lib\\site-packages\\sklearn\\metrics\\classification.py:1143: UndefinedMetricWarning: F-score is ill-defined and being set to 0.0 due to no predicted samples.\n",
      "  'precision', 'predicted', average, warn_for)\n",
      "C:\\Users\\Admin\\Miniconda3\\lib\\site-packages\\sklearn\\metrics\\classification.py:1143: UndefinedMetricWarning: F-score is ill-defined and being set to 0.0 due to no predicted samples.\n",
      "  'precision', 'predicted', average, warn_for)\n",
      "C:\\Users\\Admin\\Miniconda3\\lib\\site-packages\\sklearn\\metrics\\classification.py:1143: UndefinedMetricWarning: F-score is ill-defined and being set to 0.0 due to no predicted samples.\n",
      "  'precision', 'predicted', average, warn_for)\n",
      "C:\\Users\\Admin\\Miniconda3\\lib\\site-packages\\sklearn\\metrics\\classification.py:1143: UndefinedMetricWarning: F-score is ill-defined and being set to 0.0 due to no predicted samples.\n",
      "  'precision', 'predicted', average, warn_for)\n",
      "C:\\Users\\Admin\\Miniconda3\\lib\\site-packages\\sklearn\\metrics\\classification.py:1143: UndefinedMetricWarning: F-score is ill-defined and being set to 0.0 due to no predicted samples.\n",
      "  'precision', 'predicted', average, warn_for)\n",
      "C:\\Users\\Admin\\Miniconda3\\lib\\site-packages\\sklearn\\metrics\\classification.py:1143: UndefinedMetricWarning: F-score is ill-defined and being set to 0.0 due to no predicted samples.\n",
      "  'precision', 'predicted', average, warn_for)\n",
      "C:\\Users\\Admin\\Miniconda3\\lib\\site-packages\\sklearn\\metrics\\classification.py:1143: UndefinedMetricWarning: F-score is ill-defined and being set to 0.0 due to no predicted samples.\n",
      "  'precision', 'predicted', average, warn_for)\n",
      "C:\\Users\\Admin\\Miniconda3\\lib\\site-packages\\sklearn\\metrics\\classification.py:1143: UndefinedMetricWarning: F-score is ill-defined and being set to 0.0 due to no predicted samples.\n",
      "  'precision', 'predicted', average, warn_for)\n",
      "C:\\Users\\Admin\\Miniconda3\\lib\\site-packages\\sklearn\\metrics\\classification.py:1143: UndefinedMetricWarning: F-score is ill-defined and being set to 0.0 due to no predicted samples.\n",
      "  'precision', 'predicted', average, warn_for)\n",
      "C:\\Users\\Admin\\Miniconda3\\lib\\site-packages\\sklearn\\metrics\\classification.py:1143: UndefinedMetricWarning: F-score is ill-defined and being set to 0.0 due to no predicted samples.\n",
      "  'precision', 'predicted', average, warn_for)\n",
      "C:\\Users\\Admin\\Miniconda3\\lib\\site-packages\\sklearn\\metrics\\classification.py:1143: UndefinedMetricWarning: F-score is ill-defined and being set to 0.0 due to no predicted samples.\n",
      "  'precision', 'predicted', average, warn_for)\n",
      "C:\\Users\\Admin\\Miniconda3\\lib\\site-packages\\sklearn\\metrics\\classification.py:1143: UndefinedMetricWarning: F-score is ill-defined and being set to 0.0 due to no predicted samples.\n",
      "  'precision', 'predicted', average, warn_for)\n",
      "C:\\Users\\Admin\\Miniconda3\\lib\\site-packages\\sklearn\\metrics\\classification.py:1143: UndefinedMetricWarning: F-score is ill-defined and being set to 0.0 due to no predicted samples.\n",
      "  'precision', 'predicted', average, warn_for)\n",
      "C:\\Users\\Admin\\Miniconda3\\lib\\site-packages\\sklearn\\metrics\\classification.py:1143: UndefinedMetricWarning: F-score is ill-defined and being set to 0.0 due to no predicted samples.\n",
      "  'precision', 'predicted', average, warn_for)\n",
      "C:\\Users\\Admin\\Miniconda3\\lib\\site-packages\\sklearn\\metrics\\classification.py:1143: UndefinedMetricWarning: F-score is ill-defined and being set to 0.0 due to no predicted samples.\n",
      "  'precision', 'predicted', average, warn_for)\n",
      "C:\\Users\\Admin\\Miniconda3\\lib\\site-packages\\sklearn\\metrics\\classification.py:1143: UndefinedMetricWarning: F-score is ill-defined and being set to 0.0 due to no predicted samples.\n",
      "  'precision', 'predicted', average, warn_for)\n",
      "C:\\Users\\Admin\\Miniconda3\\lib\\site-packages\\sklearn\\metrics\\classification.py:1143: UndefinedMetricWarning: F-score is ill-defined and being set to 0.0 due to no predicted samples.\n",
      "  'precision', 'predicted', average, warn_for)\n",
      "C:\\Users\\Admin\\Miniconda3\\lib\\site-packages\\sklearn\\metrics\\classification.py:1143: UndefinedMetricWarning: F-score is ill-defined and being set to 0.0 due to no predicted samples.\n",
      "  'precision', 'predicted', average, warn_for)\n",
      "C:\\Users\\Admin\\Miniconda3\\lib\\site-packages\\sklearn\\metrics\\classification.py:1143: UndefinedMetricWarning: F-score is ill-defined and being set to 0.0 due to no predicted samples.\n",
      "  'precision', 'predicted', average, warn_for)\n",
      "C:\\Users\\Admin\\Miniconda3\\lib\\site-packages\\sklearn\\metrics\\classification.py:1143: UndefinedMetricWarning: F-score is ill-defined and being set to 0.0 due to no predicted samples.\n",
      "  'precision', 'predicted', average, warn_for)\n",
      "C:\\Users\\Admin\\Miniconda3\\lib\\site-packages\\sklearn\\metrics\\classification.py:1143: UndefinedMetricWarning: F-score is ill-defined and being set to 0.0 due to no predicted samples.\n",
      "  'precision', 'predicted', average, warn_for)\n"
     ]
    },
    {
     "name": "stderr",
     "output_type": "stream",
     "text": [
      "C:\\Users\\Admin\\Miniconda3\\lib\\site-packages\\sklearn\\metrics\\classification.py:1143: UndefinedMetricWarning: F-score is ill-defined and being set to 0.0 due to no predicted samples.\n",
      "  'precision', 'predicted', average, warn_for)\n",
      "C:\\Users\\Admin\\Miniconda3\\lib\\site-packages\\sklearn\\metrics\\classification.py:1143: UndefinedMetricWarning: F-score is ill-defined and being set to 0.0 due to no predicted samples.\n",
      "  'precision', 'predicted', average, warn_for)\n",
      "C:\\Users\\Admin\\Miniconda3\\lib\\site-packages\\sklearn\\metrics\\classification.py:1143: UndefinedMetricWarning: F-score is ill-defined and being set to 0.0 due to no predicted samples.\n",
      "  'precision', 'predicted', average, warn_for)\n",
      "C:\\Users\\Admin\\Miniconda3\\lib\\site-packages\\sklearn\\metrics\\classification.py:1143: UndefinedMetricWarning: F-score is ill-defined and being set to 0.0 due to no predicted samples.\n",
      "  'precision', 'predicted', average, warn_for)\n",
      "C:\\Users\\Admin\\Miniconda3\\lib\\site-packages\\sklearn\\metrics\\classification.py:1143: UndefinedMetricWarning: F-score is ill-defined and being set to 0.0 due to no predicted samples.\n",
      "  'precision', 'predicted', average, warn_for)\n",
      "C:\\Users\\Admin\\Miniconda3\\lib\\site-packages\\sklearn\\metrics\\classification.py:1143: UndefinedMetricWarning: F-score is ill-defined and being set to 0.0 due to no predicted samples.\n",
      "  'precision', 'predicted', average, warn_for)\n",
      "C:\\Users\\Admin\\Miniconda3\\lib\\site-packages\\sklearn\\metrics\\classification.py:1143: UndefinedMetricWarning: F-score is ill-defined and being set to 0.0 due to no predicted samples.\n",
      "  'precision', 'predicted', average, warn_for)\n",
      "C:\\Users\\Admin\\Miniconda3\\lib\\site-packages\\sklearn\\metrics\\classification.py:1143: UndefinedMetricWarning: F-score is ill-defined and being set to 0.0 due to no predicted samples.\n",
      "  'precision', 'predicted', average, warn_for)\n",
      "C:\\Users\\Admin\\Miniconda3\\lib\\site-packages\\sklearn\\metrics\\classification.py:1143: UndefinedMetricWarning: F-score is ill-defined and being set to 0.0 due to no predicted samples.\n",
      "  'precision', 'predicted', average, warn_for)\n",
      "C:\\Users\\Admin\\Miniconda3\\lib\\site-packages\\sklearn\\metrics\\classification.py:1143: UndefinedMetricWarning: F-score is ill-defined and being set to 0.0 due to no predicted samples.\n",
      "  'precision', 'predicted', average, warn_for)\n",
      "C:\\Users\\Admin\\Miniconda3\\lib\\site-packages\\sklearn\\metrics\\classification.py:1143: UndefinedMetricWarning: F-score is ill-defined and being set to 0.0 due to no predicted samples.\n",
      "  'precision', 'predicted', average, warn_for)\n",
      "C:\\Users\\Admin\\Miniconda3\\lib\\site-packages\\sklearn\\metrics\\classification.py:1143: UndefinedMetricWarning: F-score is ill-defined and being set to 0.0 due to no predicted samples.\n",
      "  'precision', 'predicted', average, warn_for)\n",
      "C:\\Users\\Admin\\Miniconda3\\lib\\site-packages\\sklearn\\metrics\\classification.py:1143: UndefinedMetricWarning: F-score is ill-defined and being set to 0.0 due to no predicted samples.\n",
      "  'precision', 'predicted', average, warn_for)\n",
      "C:\\Users\\Admin\\Miniconda3\\lib\\site-packages\\sklearn\\metrics\\classification.py:1143: UndefinedMetricWarning: F-score is ill-defined and being set to 0.0 due to no predicted samples.\n",
      "  'precision', 'predicted', average, warn_for)\n",
      "C:\\Users\\Admin\\Miniconda3\\lib\\site-packages\\sklearn\\metrics\\classification.py:1143: UndefinedMetricWarning: F-score is ill-defined and being set to 0.0 due to no predicted samples.\n",
      "  'precision', 'predicted', average, warn_for)\n",
      "C:\\Users\\Admin\\Miniconda3\\lib\\site-packages\\sklearn\\metrics\\classification.py:1143: UndefinedMetricWarning: F-score is ill-defined and being set to 0.0 due to no predicted samples.\n",
      "  'precision', 'predicted', average, warn_for)\n",
      "C:\\Users\\Admin\\Miniconda3\\lib\\site-packages\\sklearn\\metrics\\classification.py:1143: UndefinedMetricWarning: F-score is ill-defined and being set to 0.0 due to no predicted samples.\n",
      "  'precision', 'predicted', average, warn_for)\n",
      "C:\\Users\\Admin\\Miniconda3\\lib\\site-packages\\sklearn\\metrics\\classification.py:1143: UndefinedMetricWarning: F-score is ill-defined and being set to 0.0 due to no predicted samples.\n",
      "  'precision', 'predicted', average, warn_for)\n",
      "C:\\Users\\Admin\\Miniconda3\\lib\\site-packages\\sklearn\\metrics\\classification.py:1143: UndefinedMetricWarning: F-score is ill-defined and being set to 0.0 due to no predicted samples.\n",
      "  'precision', 'predicted', average, warn_for)\n",
      "C:\\Users\\Admin\\Miniconda3\\lib\\site-packages\\sklearn\\metrics\\classification.py:1143: UndefinedMetricWarning: F-score is ill-defined and being set to 0.0 due to no predicted samples.\n",
      "  'precision', 'predicted', average, warn_for)\n",
      "C:\\Users\\Admin\\Miniconda3\\lib\\site-packages\\sklearn\\metrics\\classification.py:1143: UndefinedMetricWarning: F-score is ill-defined and being set to 0.0 due to no predicted samples.\n",
      "  'precision', 'predicted', average, warn_for)\n",
      "C:\\Users\\Admin\\Miniconda3\\lib\\site-packages\\sklearn\\metrics\\classification.py:1143: UndefinedMetricWarning: F-score is ill-defined and being set to 0.0 due to no predicted samples.\n",
      "  'precision', 'predicted', average, warn_for)\n",
      "C:\\Users\\Admin\\Miniconda3\\lib\\site-packages\\sklearn\\metrics\\classification.py:1143: UndefinedMetricWarning: F-score is ill-defined and being set to 0.0 due to no predicted samples.\n",
      "  'precision', 'predicted', average, warn_for)\n",
      "C:\\Users\\Admin\\Miniconda3\\lib\\site-packages\\sklearn\\metrics\\classification.py:1143: UndefinedMetricWarning: F-score is ill-defined and being set to 0.0 due to no predicted samples.\n",
      "  'precision', 'predicted', average, warn_for)\n",
      "C:\\Users\\Admin\\Miniconda3\\lib\\site-packages\\sklearn\\metrics\\classification.py:1143: UndefinedMetricWarning: F-score is ill-defined and being set to 0.0 due to no predicted samples.\n",
      "  'precision', 'predicted', average, warn_for)\n",
      "C:\\Users\\Admin\\Miniconda3\\lib\\site-packages\\sklearn\\metrics\\classification.py:1143: UndefinedMetricWarning: F-score is ill-defined and being set to 0.0 due to no predicted samples.\n",
      "  'precision', 'predicted', average, warn_for)\n"
     ]
    },
    {
     "name": "stdout",
     "output_type": "stream",
     "text": [
      "0.5062557294136242 (2, 7)\n"
     ]
    }
   ],
   "source": [
    "best_score = 0\n",
    "best_params = (None, None)\n",
    "for n_trees in range(1, 15):\n",
    "    for max_depth in range(3, 25):\n",
    "        cl = RandomForestClassifier(n_estimators=n_trees, max_depth=max_depth)\n",
    "        scores = cross_validate(cl, X_train, y_train, cv=3, scoring='f1')['test_score']\n",
    "        current_score = sum(scores) / len(scores)\n",
    "        if current_score > best_score:\n",
    "            best_score = current_score\n",
    "            best_params = (n_trees, max_depth)\n",
    "print(best_score, best_params)"
   ]
  },
  {
   "cell_type": "markdown",
   "metadata": {},
   "source": [
    "Предупреждение, выводящееся на экран, означает, что среди y_validate есть значения, ни разу не встретившиеся в predicted. То есть мой классификатор, скорее всего, слишком часто предсказывает, что слово не является антецедентом :("
   ]
  },
  {
   "cell_type": "code",
   "execution_count": 730,
   "metadata": {},
   "outputs": [],
   "source": [
    "clf = RandomForestClassifier(n_estimators=best_params[0], max_depth=best_params[1])\n",
    "clf.fit(X_train, y_train)\n",
    "predicted = clf.predict(X_test)\n",
    "precision_new = precision_score(y_pred=predicted, y_true=y_test)\n",
    "recall_new = recall_score(y_pred=predicted, y_true=y_test)\n",
    "f1_new = f1_score(y_pred=predicted, y_true=y_test)"
   ]
  },
  {
   "cell_type": "code",
   "execution_count": 731,
   "metadata": {},
   "outputs": [
    {
     "name": "stdout",
     "output_type": "stream",
     "text": [
      "0.5\n",
      "0.40625\n",
      "0.4482758620689655\n"
     ]
    }
   ],
   "source": [
    "print(precision_new, recall_new, f1_new, sep='\\n')"
   ]
  },
  {
   "cell_type": "markdown",
   "metadata": {},
   "source": [
    "## главная ошибка"
   ]
  },
  {
   "cell_type": "markdown",
   "metadata": {},
   "source": [
    "Кажется, что f-мера падает из-за большого количества true negative векторов (много именных групп и мало анафоров в предложениях):"
   ]
  },
  {
   "cell_type": "code",
   "execution_count": 681,
   "metadata": {},
   "outputs": [
    {
     "name": "stdout",
     "output_type": "stream",
     "text": [
      "1 :    137\n",
      "2 :    1675\n"
     ]
    }
   ],
   "source": [
    "dummy_anteceds = pd.get_dummies(first_data['is_antecedent'])\n",
    "for column in dummy_anteceds.columns:\n",
    "    print(column, ':   ', len(dummy_anteceds[dummy_anteceds[column]==1]))"
   ]
  },
  {
   "cell_type": "markdown",
   "metadata": {},
   "source": [
    "## другие ошибки"
   ]
  },
  {
   "cell_type": "markdown",
   "metadata": {},
   "source": [
    "Не лучшая имплементация проверки с-командования (на дереве составляющих было бы лучше, но мне на это не хватило времени). Зато это реализовано в коде, на статью о котором я опиралась.\n",
    "\n",
    "Неудачное разбиение самих текстов корпуса на предложения. Если посмотреть на файлы корпуса, то можно заметить, что разбивка на предложения далека от идеала. Я старалась убирать из выборки совсем неудачно выделенные предложения, но часть оставляла.\n",
    "\n",
    "Интуитивно непонятный алгоритм построения зависимостей. Если в начале работы я предполагала, что корень дерева -- всегда главный глагол, потом оказалось, что это не так."
   ]
  },
  {
   "cell_type": "markdown",
   "metadata": {},
   "source": [
    "  "
   ]
  },
  {
   "cell_type": "markdown",
   "metadata": {},
   "source": [
    "  "
   ]
  },
  {
   "cell_type": "markdown",
   "metadata": {},
   "source": [
    "## что внутри класса"
   ]
  },
  {
   "cell_type": "markdown",
   "metadata": {},
   "source": [
    "Как выглядят атрибуты:"
   ]
  },
  {
   "cell_type": "code",
   "execution_count": 431,
   "metadata": {},
   "outputs": [],
   "source": [
    "sent = SentenceProcessing(self_sentences[0])"
   ]
  },
  {
   "cell_type": "code",
   "execution_count": 432,
   "metadata": {},
   "outputs": [],
   "source": [
    "sent.preprocess()"
   ]
  },
  {
   "cell_type": "code",
   "execution_count": 433,
   "metadata": {},
   "outputs": [
    {
     "name": "stdout",
     "output_type": "stream",
     "text": [
      "{'number': 2, 'word': 'время', 'tags': 'Ncnsan', 'alias': 1, 'is_antecedent': '_', 'bindee': '_'}\n",
      "[2]\n",
      "checking now node  2\n",
      "0\n",
      "{'number': 4, 'word': 'прогулок', 'tags': 'Ncfpgn', 'alias': 2, 'is_antecedent': '_', 'bindee': '_'}\n",
      "[4]\n",
      "checking now node  4\n",
      "0\n",
      "{'number': 6, 'word': 'окрестностях', 'tags': 'Ncfpln', 'alias': 5, 'is_antecedent': '_', 'bindee': '_'}\n",
      "[6]\n",
      "checking now node  6\n",
      "0\n",
      "{'number': 7, 'word': 'Симеиза', 'tags': 'Ncmsgn', 'alias': 6, 'is_antecedent': '_', 'bindee': '_'}\n",
      "[7]\n",
      "checking now node  7\n",
      "0\n",
      "{'number': 8, 'word': 'я', 'tags': 'P-1-snn', 'alias': 9, 'is_antecedent': 'ANTECEDENT', 'bindee': '3'}\n",
      "[1, 8, 10]\n",
      "checking now node  1\n",
      "{'number': 8, 'word': 'я', 'tags': 'P-1-snn', 'alias': 9, 'is_antecedent': 'ANTECEDENT', 'bindee': '3'}\n",
      "[2]\n",
      "checking now node  2\n",
      "{'number': 8, 'word': 'я', 'tags': 'P-1-snn', 'alias': 9, 'is_antecedent': 'ANTECEDENT', 'bindee': '3'}\n",
      "[4]\n",
      "checking now node  4\n",
      "{'number': 8, 'word': 'я', 'tags': 'P-1-snn', 'alias': 9, 'is_antecedent': 'ANTECEDENT', 'bindee': '3'}\n",
      "[3, 5]\n",
      "checking now node  3\n",
      "found it!\n",
      "answer_1 =  1\n",
      "1\n",
      "1\n",
      "1\n",
      "1\n",
      "{'number': 10, 'word': 'внимание', 'tags': 'Ncnsan', 'alias': 9, 'is_antecedent': '_', 'bindee': '_'}\n",
      "[1, 8, 10]\n",
      "checking now node  1\n",
      "{'number': 10, 'word': 'внимание', 'tags': 'Ncnsan', 'alias': 9, 'is_antecedent': '_', 'bindee': '_'}\n",
      "[2]\n",
      "checking now node  2\n",
      "{'number': 10, 'word': 'внимание', 'tags': 'Ncnsan', 'alias': 9, 'is_antecedent': '_', 'bindee': '_'}\n",
      "[4]\n",
      "checking now node  4\n",
      "{'number': 10, 'word': 'внимание', 'tags': 'Ncnsan', 'alias': 9, 'is_antecedent': '_', 'bindee': '_'}\n",
      "[3, 5]\n",
      "checking now node  3\n",
      "found it!\n",
      "answer_1 =  1\n",
      "1\n",
      "1\n",
      "1\n",
      "1\n",
      "{'number': 13, 'word': 'дачу', 'tags': 'Ncfsan', 'alias': 11, 'is_antecedent': '_', 'bindee': '_'}\n",
      "[13]\n",
      "checking now node  13\n",
      "0\n",
      "{'number': 18, 'word': 'склоне', 'tags': 'Ncmsln', 'alias': 16, 'is_antecedent': '_', 'bindee': '_'}\n",
      "[18]\n",
      "checking now node  18\n",
      "0\n",
      "{'number': 19, 'word': 'горы', 'tags': 'Ncfsgn', 'alias': 18, 'is_antecedent': '_', 'bindee': '_'}\n",
      "[17, 19]\n",
      "checking now node  17\n",
      "checking now node  19\n",
      "0\n"
     ]
    }
   ],
   "source": [
    "list_of_features = sent.processing()"
   ]
  },
  {
   "cell_type": "code",
   "execution_count": 434,
   "metadata": {},
   "outputs": [],
   "source": [
    "for item in list_of_features:\n",
    "    for i, feature in enumerate(item):\n",
    "        if isinstance(feature, tuple):\n",
    "            item[i] = ' -> '.join(feature)"
   ]
  },
  {
   "cell_type": "code",
   "execution_count": 435,
   "metadata": {},
   "outputs": [
    {
     "name": "stdout",
     "output_type": "stream",
     "text": [
      "время -> своих <class 'str'>\n",
      "0 <class 'int'>\n",
      "1 <class 'int'>\n",
      "1 <class 'int'>\n",
      "0 <class 'int'>\n",
      "0 <class 'int'>\n",
      "0 <class 'int'>\n",
      "1 <class 'int'>\n",
      "0 <class 'int'>\n",
      "_ <class 'str'>\n",
      "_ <class 'str'>\n",
      "прогулок -> своих <class 'str'>\n",
      "0 <class 'int'>\n",
      "1 <class 'int'>\n",
      "0 <class 'int'>\n",
      "0 <class 'int'>\n",
      "1 <class 'int'>\n",
      "0 <class 'int'>\n",
      "0 <class 'int'>\n",
      "1 <class 'int'>\n",
      "_ <class 'str'>\n",
      "_ <class 'str'>\n",
      "окрестностях -> своих <class 'str'>\n",
      "0 <class 'int'>\n",
      "1 <class 'int'>\n",
      "0 <class 'int'>\n",
      "0 <class 'int'>\n",
      "0 <class 'int'>\n",
      "0 <class 'int'>\n",
      "0 <class 'int'>\n",
      "0 <class 'int'>\n",
      "_ <class 'str'>\n",
      "_ <class 'str'>\n",
      "Симеиза -> своих <class 'str'>\n",
      "0 <class 'int'>\n",
      "1 <class 'int'>\n",
      "1 <class 'int'>\n",
      "0 <class 'int'>\n",
      "0 <class 'int'>\n",
      "0 <class 'int'>\n",
      "0 <class 'int'>\n",
      "0 <class 'int'>\n",
      "_ <class 'str'>\n",
      "_ <class 'str'>\n",
      "я -> своих <class 'str'>\n",
      "1 <class 'int'>\n",
      "1 <class 'int'>\n",
      "0 <class 'int'>\n",
      "1 <class 'int'>\n",
      "0 <class 'int'>\n",
      "1 <class 'int'>\n",
      "0 <class 'int'>\n",
      "0 <class 'int'>\n",
      "ANTECEDENT <class 'str'>\n",
      "3 <class 'str'>\n",
      "внимание -> своих <class 'str'>\n",
      "1 <class 'int'>\n",
      "0 <class 'int'>\n",
      "1 <class 'int'>\n",
      "0 <class 'int'>\n",
      "0 <class 'int'>\n",
      "0 <class 'int'>\n",
      "0 <class 'int'>\n",
      "0 <class 'int'>\n",
      "_ <class 'str'>\n",
      "_ <class 'str'>\n",
      "дачу -> своих <class 'str'>\n",
      "0 <class 'int'>\n",
      "0 <class 'int'>\n",
      "1 <class 'int'>\n",
      "0 <class 'int'>\n",
      "0 <class 'int'>\n",
      "0 <class 'int'>\n",
      "0 <class 'int'>\n",
      "0 <class 'int'>\n",
      "_ <class 'str'>\n",
      "_ <class 'str'>\n",
      "склоне -> своих <class 'str'>\n",
      "0 <class 'int'>\n",
      "0 <class 'int'>\n",
      "1 <class 'int'>\n",
      "0 <class 'int'>\n",
      "0 <class 'int'>\n",
      "0 <class 'int'>\n",
      "0 <class 'int'>\n",
      "0 <class 'int'>\n",
      "_ <class 'str'>\n",
      "_ <class 'str'>\n",
      "горы -> своих <class 'str'>\n",
      "0 <class 'int'>\n",
      "0 <class 'int'>\n",
      "1 <class 'int'>\n",
      "0 <class 'int'>\n",
      "0 <class 'int'>\n",
      "0 <class 'int'>\n",
      "0 <class 'int'>\n",
      "0 <class 'int'>\n",
      "_ <class 'str'>\n",
      "_ <class 'str'>\n"
     ]
    }
   ],
   "source": [
    "for item in list_of_features:\n",
    "    for feature in item:\n",
    "        print(feature, type(feature))"
   ]
  },
  {
   "cell_type": "code",
   "execution_count": 73,
   "metadata": {},
   "outputs": [
    {
     "data": {
      "text/plain": [
       "[{'number': '2', 'word': 'время', 'tags': 'Ncnsan', 'alias': '1'},\n",
       " {'number': '4', 'word': 'прогулок', 'tags': 'Ncfpgn', 'alias': '2'},\n",
       " {'number': '6', 'word': 'окрестностях', 'tags': 'Ncfpln', 'alias': '5'},\n",
       " {'number': '7', 'word': 'Симеиза', 'tags': 'Ncmsgn', 'alias': '6'},\n",
       " {'number': '8', 'word': 'я', 'tags': 'P-1-snn', 'alias': '9'},\n",
       " {'number': '10', 'word': 'внимание', 'tags': 'Ncnsan', 'alias': '9'},\n",
       " {'number': '13', 'word': 'дачу', 'tags': 'Ncfsan', 'alias': '11'},\n",
       " {'number': '18', 'word': 'склоне', 'tags': 'Ncmsln', 'alias': '16'},\n",
       " {'number': '19', 'word': 'горы', 'tags': 'Ncfsgn', 'alias': '18'}]"
      ]
     },
     "execution_count": 73,
     "metadata": {},
     "output_type": "execute_result"
    }
   ],
   "source": [
    "sent.antecedents"
   ]
  },
  {
   "cell_type": "code",
   "execution_count": 74,
   "metadata": {},
   "outputs": [
    {
     "data": {
      "text/plain": [
       "[{'number': '9', 'word': 'обратил', 'tags': 'Vmis-sma-p', 'alias': '0'},\n",
       " {'number': '15', 'word': 'стоявшую', 'tags': 'Vmps-sfa-ea', 'alias': '13'}]"
      ]
     },
     "execution_count": 74,
     "metadata": {},
     "output_type": "execute_result"
    }
   ],
   "source": [
    "sent.verblist"
   ]
  },
  {
   "cell_type": "code",
   "execution_count": 75,
   "metadata": {},
   "outputs": [
    {
     "data": {
      "text/plain": [
       "[{'number': '3', 'word': 'своих', 'tags': 'P---pga', 'alias': '4'}]"
      ]
     },
     "execution_count": 75,
     "metadata": {},
     "output_type": "execute_result"
    }
   ],
   "source": [
    "sent.anaphors"
   ]
  },
  {
   "cell_type": "code",
   "execution_count": 176,
   "metadata": {},
   "outputs": [
    {
     "data": {
      "text/plain": [
       "{'9': ['1', '8', '10'],\n",
       " '1': ['2'],\n",
       " '4': ['3', '5'],\n",
       " '2': ['4'],\n",
       " '5': ['6'],\n",
       " '6': ['7'],\n",
       " '0': ['9'],\n",
       " '10': ['11'],\n",
       " '13': ['12', '14', '15'],\n",
       " '11': ['13'],\n",
       " '15': ['16'],\n",
       " '18': ['17', '19'],\n",
       " '16': ['18'],\n",
       " '19': ['20']}"
      ]
     },
     "execution_count": 176,
     "metadata": {},
     "output_type": "execute_result"
    }
   ],
   "source": [
    "sent.tree"
   ]
  },
  {
   "cell_type": "code",
   "execution_count": null,
   "metadata": {},
   "outputs": [],
   "source": []
  }
 ],
 "metadata": {
  "kernelspec": {
   "display_name": "Python 3",
   "language": "python",
   "name": "python3"
  },
  "language_info": {
   "codemirror_mode": {
    "name": "ipython",
    "version": 3
   },
   "file_extension": ".py",
   "mimetype": "text/x-python",
   "name": "python",
   "nbconvert_exporter": "python",
   "pygments_lexer": "ipython3",
   "version": "3.7.0"
  }
 },
 "nbformat": 4,
 "nbformat_minor": 2
}
